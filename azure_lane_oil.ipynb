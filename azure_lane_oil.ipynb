{
 "cells": [
  {
   "cell_type": "code",
   "execution_count": 1,
   "metadata": {},
   "outputs": [
    {
     "data": {
      "image/png": "[encoded data removed]",
      "text/plain": [
       "<IPython.core.display.Image object>"
      ]
     },
     "execution_count": 1,
     "metadata": {},
     "output_type": "execute_result"
    }
   ],
   "source": [
    "'''\n",
    "\n",
    "这篇文档仅用于碧蓝航线计算舰娘经验值使用\n",
    "\n",
    "使用方法：\n",
    "修改下面的值，运行整个文件\n",
    "\n",
    "------------------------------------------------\n",
    "\n",
    "例子：\n",
    "\n",
    "1.\n",
    "练2艘航母，航母平均最大油耗13油\n",
    "用一个经验船，经验船加成15%，经验船油耗3油\n",
    "每次都是后排旗舰位的mvp\n",
    "\n",
    "ship_oil = 13.0\n",
    "ship_number = 3\n",
    "ship_xp_number = 1\n",
    "ship_xp_oil = 3.0\n",
    "ship_xp_rate = 0.15\n",
    "ship_leader = 1\n",
    "mvp = 1.0\n",
    "\n",
    "2.\n",
    "练1艘轻巡，轻巡平均最大油耗11油\n",
    "用一个经验船，经验船加成16%，经验船油耗2油\n",
    "轻巡拿到mvp的概率为50%\n",
    "\n",
    "ship_oil = 11.0\n",
    "ship_number = 2\n",
    "ship_xp_number = 1\n",
    "ship_xp_oil = 2.0\n",
    "ship_xp_rate = 0.16\n",
    "ship_leader = 0\n",
    "mvp = 0.5\n",
    "\n",
    "------------------------------------------------\n",
    "\n",
    "在文章末尾的显示图\n",
    "\n",
    "横轴代表吃经验船的平均油耗，纵轴代表经验效率\n",
    "\n",
    "绿色线代表不使用经验船，随着平均油耗增高，经验效率的变化情况\n",
    "红色线代表使用经验船，随着平均油耗增高，经验效率的变化情况\n",
    "\n",
    "例如这里的图，表示\n",
    "在特定情况下，每船平均8.4油前，不使用经验船经验效率较高\n",
    "平均每船高于8.4油时，使用经验船效率较高\n",
    "\n",
    "'''\n",
    "\n",
    "# 实际数据请在这里改动\n",
    "\n",
    "# 吃经验的船，平均单船最大油耗\n",
    "ship_oil = 13.0\n",
    "# 总船数量，包括练船和经验船\n",
    "ship_number = 3\n",
    "# 经验船数量\n",
    "ship_xp_number = 1\n",
    "# 经验船油耗\n",
    "ship_xp_oil = 3.0\n",
    "# 经验船总加成\n",
    "ship_xp_rate = 0.15\n",
    "\n",
    "# 是否有旗舰经验加成\n",
    "ship_leader = 1\n",
    "# mvp获取概率\n",
    "mvp = 1.0\n",
    "\n",
    "from IPython.display import Image\n",
    "\n",
    "Image(\"oil.png\")"
   ]
  },
  {
   "cell_type": "code",
   "execution_count": 2,
   "metadata": {},
   "outputs": [],
   "source": [
    "def original_ratio(s_member, s_oil, s_leader_xp):\n",
    "    '''\n",
    "    不使用经验船，预期获得的经验比\n",
    "    \n",
    "    :param s_member: 吃经验的船总量\n",
    "    :param s_oil: 平均单船油耗\n",
    "    :param s_leader_xp: 平均单船油耗\n",
    "    :return float:经验/油耗 比\n",
    "    '''\n",
    "\n",
    "    # 总油耗\n",
    "    all_oil = s_member * s_oil\n",
    "    # 总经验\n",
    "    all_xp = s_member - 1.0 + s_leader_xp\n",
    "    # 经验/油耗 比\n",
    "    xp_rate = all_xp / all_oil\n",
    "    \n",
    "    return xp_rate"
   ]
  },
  {
   "cell_type": "code",
   "execution_count": 3,
   "metadata": {},
   "outputs": [],
   "source": [
    "def enhanced_ratio(s_member, s_oil, s_leader_xp, s_xp_number, s_xp_oil, s_xp_rate):\n",
    "    '''\n",
    "    使用经验船，预期获得的经验比 \n",
    "    \n",
    "    :param s_member: 吃经验的船总量\n",
    "    :param s_oil: 平均单船油耗\n",
    "    :param s_leader_xp: 平均单船油耗\n",
    "    :param s_xp_number: 经验船总数\n",
    "    :param s_xp_oil:经验船油耗\n",
    "    :param s_xp_rate:经验船效率加成\n",
    "    :return float:经验/油耗 比\n",
    "    '''\n",
    "\n",
    "    # 吃经验的船数\n",
    "    ship_member = s_member - s_xp_number\n",
    "\n",
    "    # 总油耗\n",
    "    all_oil = ship_member * ship_oil + s_xp_oil * s_xp_number\n",
    "    # 总经验\n",
    "    all_xp = (ship_member - 1.0 + s_leader_xp) * (1 + s_xp_rate * s_xp_number)\n",
    "    # 经验/油耗 比\n",
    "    xp_rate = all_xp / all_oil\n",
    "    \n",
    "    return xp_rate"
   ]
  },
  {
   "cell_type": "code",
   "execution_count": 4,
   "metadata": {},
   "outputs": [],
   "source": [
    "# 发生mvp，旗舰变化的船经验\n",
    "leader_ship_xp = 1.0\n",
    "# 现在使总经验和环境变量挂钩\n",
    "if ship_leader == 1:\n",
    "    leader_ship_xp = leader_ship_xp * 1.5\n",
    "if mvp != 0:\n",
    "    leader_ship_xp = leader_ship_xp * 2 * mvp"
   ]
  },
  {
   "cell_type": "code",
   "execution_count": 5,
   "metadata": {},
   "outputs": [
    {
     "data": {
      "image/png": "[encoded data removed]",
      "text/plain": [
       "<Figure size 432x288 with 1 Axes>"
      ]
     },
     "metadata": {
      "needs_background": "light"
     },
     "output_type": "display_data"
    }
   ],
   "source": [
    "import matplotlib.pyplot as plt\n",
    "import numpy as np\n",
    "\n",
    "# 不使用经验船\n",
    "np_ship_oil = np.arange(1, ship_oil, 0.1)\n",
    "np_ship_rate1 = np.arange(0.0, 0.0, 0.1)\n",
    "for n, oil in enumerate(np_ship_oil):\n",
    "    oil_rate = original_ratio(ship_number, oil, leader_ship_xp)\n",
    "    oil_rate2 = enhanced_ratio(ship_number, oil, leader_ship_xp,\n",
    "                              ship_xp_number, ship_xp_oil, ship_xp_rate)\n",
    "    np_ship_rate1 = np.append(np_ship_rate1, oil_rate)\n",
    "\n",
    "plt.plot(np_ship_oil, np_ship_rate1, color='green')\n",
    "\n",
    "# 使用经验船\n",
    "np_ship_rate2 = np.arange(0.0, 0.0, 0.1)\n",
    "for n, oil in enumerate(np_ship_oil):\n",
    "    oil_rate = enhanced_ratio(ship_number, oil, leader_ship_xp,\n",
    "                              ship_xp_number, ship_xp_oil, ship_xp_rate)\n",
    "    np_ship_rate2 = np.append(np_ship_rate2, oil_rate)\n",
    "\n",
    "plt.plot(np_ship_oil, np_ship_rate2, color='red')\n",
    "\n",
    "# 交点\n",
    "idx = np.argwhere(np.diff(np.sign(np_ship_rate1 - np_ship_rate2))).flatten()\n",
    "plt.plot(np_ship_oil[idx], np_ship_rate1[idx])\n",
    "plt.annotate('oil at %f' % np_ship_oil[idx], xy = (np_ship_oil[idx], np_ship_rate1[idx]), \n",
    "                    xycoords='data',\n",
    "                    xytext=(+7, +1),\n",
    "                    arrowprops=dict(arrowstyle='->'))\n",
    "\n",
    "plt.show()"
   ]
  }
 ],
 "metadata": {
  "kernelspec": {
   "display_name": "Python 3",
   "language": "python",
   "name": "python3"
  },
  "language_info": {
   "codemirror_mode": {
    "name": "ipython",
    "version": 3
   },
   "file_extension": ".py",
   "mimetype": "text/x-python",
   "name": "python",
   "nbconvert_exporter": "python",
   "pygments_lexer": "ipython3",
   "version": "3.7.3"
  }
 },
 "nbformat": 4,
 "nbformat_minor": 4
}
